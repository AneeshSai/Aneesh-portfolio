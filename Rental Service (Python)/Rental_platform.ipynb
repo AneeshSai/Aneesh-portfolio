{
 "cells": [
  {
   "cell_type": "markdown",
   "metadata": {},
   "source": [
    "# Online Rental car company platform"
   ]
  },
  {
   "cell_type": "code",
   "execution_count": 1,
   "metadata": {},
   "outputs": [],
   "source": [
    "from datetime import datetime"
   ]
  },
  {
   "cell_type": "code",
   "execution_count": 2,
   "metadata": {},
   "outputs": [],
   "source": [
    "# Rental service's local database\n",
    "\n",
    "class RentalService:\n",
    "    rental_modes = [\"hourly\", \"daily\", \"weekly\"] # creating an array of rental modes\n",
    "    \n",
    "    # creating an object of mode wise payment to be used in the final calculation\n",
    "    rental_prices = { \n",
    "        \"hourly\": 10,\n",
    "        \"daily\": 100,\n",
    "        \"weekly\": 500\n",
    "    }\n",
    "\n",
    "    def __init__(self):\n",
    "        self.__available_cars_count = 30 # storing as a private variable for security concerns\n",
    "\n",
    "    # Method to get the available cars in the database\n",
    "    def get_available_cars_count(self):\n",
    "        return self.__available_cars_count\n",
    "    \n",
    "    # Method to update the available cars in the database\n",
    "    def set_available_cars_count(self, requested_cars):\n",
    "        self.__available_cars_count-=requested_cars\n",
    "\n",
    "    # Regular method to return the price associated with a rental mode\n",
    "    def get_rental_prices(self, rental_mode):\n",
    "        return self.rental_prices[rental_mode]"
   ]
  },
  {
   "cell_type": "code",
   "execution_count": 3,
   "metadata": {},
   "outputs": [],
   "source": [
    "rental_service = RentalService()"
   ]
  },
  {
   "cell_type": "code",
   "execution_count": 4,
   "metadata": {},
   "outputs": [
    {
     "data": {
      "text/plain": [
       "30"
      ]
     },
     "execution_count": 4,
     "metadata": {},
     "output_type": "execute_result"
    }
   ],
   "source": [
    "rental_service.get_available_cars_count()"
   ]
  },
  {
   "cell_type": "code",
   "execution_count": 5,
   "metadata": {},
   "outputs": [],
   "source": [
    "# Method to check the availability\n",
    "def check_availability(requested_cars):\n",
    "    return requested_cars <= rental_service.get_available_cars_count()"
   ]
  },
  {
   "cell_type": "code",
   "execution_count": 6,
   "metadata": {},
   "outputs": [],
   "source": [
    "class Customer:\n",
    "    def __init__(self):\n",
    "        pass\n",
    "\n",
    "    def initiate_car_booking(self):\n",
    "            requested_rental_mode = input(\"Please enter the mode of time you want to rent the car for: hourly/daily/weekly\")\n",
    "            self.requested_rental_mode = requested_rental_mode\n",
    "\n",
    "            if requested_rental_mode.lower() in rental_service.rental_modes:\n",
    "                self.get_requested_car_details()\n",
    "                rental_service.set_available_cars_count(self.requested_car_count)\n",
    "                self.store_customer_booking_time()\n",
    "                self.print_booking_details()\n",
    "            \n",
    "            else:\n",
    "                print('Invalid input, please enter hourly/daily/weekly')\n",
    "                self.initiate_car_booking()\n",
    "\n",
    "    def get_requested_car_details(self):\n",
    "        requested_car_count = int(input('How many cars would you need?'))\n",
    "\n",
    "        if check_availability(requested_car_count):\n",
    "            print('Cars are available')\n",
    "            self.requested_car_count = requested_car_count\n",
    "\n",
    "        elif rental_service.get_available_cars_count() == 0:\n",
    "            print(\"No cars are available at this time, please try again later\")\n",
    "\n",
    "        else:\n",
    "            print('Requested number of cars are unavailable, Current available count:', rental_service.get_available_cars_count())\n",
    "            self.get_requested_car_details()\n",
    "\n",
    "    def store_customer_booking_time(self):\n",
    "        self.booking_time = datetime.now()\n",
    "        print('Customer booking completed at:', self.booking_time)\n",
    "\n",
    "    def get_booking_details(self):\n",
    "        if self.requested_car_count == 0:\n",
    "            print('No booking details found')\n",
    "        else:\n",
    "            print(\"Booking details!!\")\n",
    "            print(\"Rental mode chosen:\", self.requested_rental_mode)\n",
    "            print(\"Number of cars booked:\", self.requested_car_count)\n",
    "            print(\"Booking date and time\", self.booking_time)\n",
    "\n",
    "    def print_booking_details(self):\n",
    "        print(\"\")\n",
    "        print(\"----------------------\")\n",
    "        self.get_booking_details()\n",
    "\n",
    "    def initiate_car_return(self):\n",
    "        if self.requested_car_count > 0:\n",
    "            #Resetting the rental service database\n",
    "            rental_service.set_available_cars_count(self.requested_car_count * -1)\n",
    "            print(\"Available cars count has been refreshed to\", rental_service.get_available_cars_count(), \"after the return of cars rented\")\n",
    "\n",
    "            time_taken = (datetime(2024, 12, 12, 12, 12, 12) - self.booking_time).total_seconds()\n",
    "            #time_taken = (datetime.now() - self.booking_time).total_seconds() # calculation of total time taken by the car\n",
    "\n",
    "            hours = int(time_taken/3600)\n",
    "            days = int(hours/24)\n",
    "            weeks = int(days/7)\n",
    "\n",
    "            rem_days = days % 7 # Removing days getting covered under weeks calculation\n",
    "            rem_hours = hours % 24 # Removing hours getting covered under days and weeks calculation\n",
    "\n",
    "            # Calculation of price per car based on the rental mode chose\n",
    "            if self.requested_rental_mode == \"hourly\":\n",
    "                total_price = hours * rental_service.get_rental_prices(\"hourly\")\n",
    "\n",
    "            elif self.requested_rental_mode == \"daily\":\n",
    "                if rem_hours > 0:\n",
    "                    total_price = (days + 1) * rental_service.get_rental_prices(\"daily\")\n",
    "                else:\n",
    "                    total_price = days * rental_service.get_rental_prices(\"daily\")\n",
    "            \n",
    "            else:\n",
    "                if rem_days > 0:\n",
    "                    total_price = (weeks + 1) * rental_service.get_rental_prices(\"weekly\")\n",
    "                else:\n",
    "                    total_price = weeks * rental_service.get_rental_prices(\"weekly\")\n",
    "            \n",
    "            total_price *= self.requested_car_count # price for overall cars rented\n",
    "\n",
    "            # resetting the customer information\n",
    "            self.requested_car_count = 0\n",
    "            self.requested_rental_mode = ''\n",
    "            self.booking_time = ''\n",
    "\n",
    "            print(\"\")\n",
    "            print(\"------------------------\")\n",
    "            print(\"Final bill!!\")\n",
    "            print(\"Cars were rented for a total period of\", weeks, \"weeks\", rem_days, \"days and\", rem_hours, \"hours\")\n",
    "            print(\"Total amount to be paid\", total_price, \"units\")\n",
    "        else:\n",
    "            print(\"No cars pending to be returned by this customer\")"
   ]
  },
  {
   "cell_type": "code",
   "execution_count": 7,
   "metadata": {},
   "outputs": [],
   "source": [
    "customer1 = Customer()"
   ]
  },
  {
   "cell_type": "code",
   "execution_count": 8,
   "metadata": {},
   "outputs": [
    {
     "name": "stdout",
     "output_type": "stream",
     "text": [
      "Cars are available\n",
      "Customer booking completed at: 2024-05-25 19:19:04.836285\n",
      "\n",
      "----------------------\n",
      "Booking details!!\n",
      "Rental mode chosen: weekly\n",
      "Number of cars booked: 21\n",
      "Booking date and time 2024-05-25 19:19:04.836285\n"
     ]
    }
   ],
   "source": [
    "customer1.initiate_car_booking()"
   ]
  },
  {
   "cell_type": "code",
   "execution_count": 9,
   "metadata": {},
   "outputs": [
    {
     "data": {
      "text/plain": [
       "9"
      ]
     },
     "execution_count": 9,
     "metadata": {},
     "output_type": "execute_result"
    }
   ],
   "source": [
    "rental_service.get_available_cars_count()"
   ]
  },
  {
   "cell_type": "code",
   "execution_count": 10,
   "metadata": {},
   "outputs": [
    {
     "name": "stdout",
     "output_type": "stream",
     "text": [
      "Booking details!!\n",
      "Rental mode chosen: weekly\n",
      "Number of cars booked: 21\n",
      "Booking date and time 2024-05-25 19:19:04.836285\n"
     ]
    }
   ],
   "source": [
    "customer1.get_booking_details()"
   ]
  },
  {
   "cell_type": "code",
   "execution_count": 11,
   "metadata": {},
   "outputs": [
    {
     "name": "stdout",
     "output_type": "stream",
     "text": [
      "Available cars count has been refreshed to 30 after the return of cars rented\n",
      "\n",
      "------------------------\n",
      "Final bill!!\n",
      "Cars were rented for a total period of 28 weeks 4 days and 16 hours\n",
      "Total amount to be paid 304500 units\n"
     ]
    }
   ],
   "source": [
    "# The below value is generated by using a hardcoded future return date for testing purpose as seen in initiate car return function, the hardcoded value is commented in final code\n",
    "customer1.initiate_car_return()"
   ]
  },
  {
   "cell_type": "markdown",
   "metadata": {},
   "source": [
    "## Details After returning the cars"
   ]
  },
  {
   "cell_type": "code",
   "execution_count": 12,
   "metadata": {},
   "outputs": [
    {
     "data": {
      "text/plain": [
       "30"
      ]
     },
     "execution_count": 12,
     "metadata": {},
     "output_type": "execute_result"
    }
   ],
   "source": [
    "rental_service.get_available_cars_count()"
   ]
  },
  {
   "cell_type": "code",
   "execution_count": 13,
   "metadata": {},
   "outputs": [
    {
     "name": "stdout",
     "output_type": "stream",
     "text": [
      "No booking details found\n"
     ]
    }
   ],
   "source": [
    "customer1.get_booking_details()"
   ]
  },
  {
   "cell_type": "code",
   "execution_count": 14,
   "metadata": {},
   "outputs": [
    {
     "name": "stdout",
     "output_type": "stream",
     "text": [
      "No cars pending to be returned by this customer\n"
     ]
    }
   ],
   "source": [
    "customer1.initiate_car_return()"
   ]
  }
 ],
 "metadata": {
  "kernelspec": {
   "display_name": "Python 3",
   "language": "python",
   "name": "python3"
  },
  "language_info": {
   "codemirror_mode": {
    "name": "ipython",
    "version": 3
   },
   "file_extension": ".py",
   "mimetype": "text/x-python",
   "name": "python",
   "nbconvert_exporter": "python",
   "pygments_lexer": "ipython3",
   "version": "3.12.3"
  }
 },
 "nbformat": 4,
 "nbformat_minor": 2
}
